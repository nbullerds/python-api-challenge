{
 "cells": [
  {
   "cell_type": "code",
   "execution_count": null,
   "metadata": {
    "scrolled": true
   },
   "outputs": [],
   "source": [
    "import matplotlib.pyplot as plt\n",
    "import pandas as pd\n",
    "import numpy as np\n",
    "import requests\n",
    "import gmaps\n",
    "import os\n",
    "import json"
   ]
  },
  {
   "cell_type": "code",
   "execution_count": null,
   "metadata": {},
   "outputs": [],
   "source": [
    "from api_keys import g_key"
   ]
  },
  {
   "cell_type": "code",
   "execution_count": 3,
   "metadata": {},
   "outputs": [
    {
     "data": {
      "text/html": [
       "<div>\n",
       "<style scoped>\n",
       "    .dataframe tbody tr th:only-of-type {\n",
       "        vertical-align: middle;\n",
       "    }\n",
       "\n",
       "    .dataframe tbody tr th {\n",
       "        vertical-align: top;\n",
       "    }\n",
       "\n",
       "    .dataframe thead th {\n",
       "        text-align: right;\n",
       "    }\n",
       "</style>\n",
       "<table border=\"1\" class=\"dataframe\">\n",
       "  <thead>\n",
       "    <tr style=\"text-align: right;\">\n",
       "      <th></th>\n",
       "      <th>City</th>\n",
       "      <th>Latitude</th>\n",
       "      <th>Longitude</th>\n",
       "      <th>Temperature (F)</th>\n",
       "      <th>Humidity (%)</th>\n",
       "      <th>Cloudiness (%)</th>\n",
       "      <th>Wind Speed (mph)</th>\n",
       "      <th>Hemisphere</th>\n",
       "      <th>Country</th>\n",
       "      <th>Date</th>\n",
       "    </tr>\n",
       "  </thead>\n",
       "  <tbody>\n",
       "    <tr>\n",
       "      <th>0</th>\n",
       "      <td>bredasdorp</td>\n",
       "      <td>-34.5322</td>\n",
       "      <td>20.0403</td>\n",
       "      <td>60.80</td>\n",
       "      <td>88.0</td>\n",
       "      <td>14.0</td>\n",
       "      <td>4.61</td>\n",
       "      <td>Southern Hemisphere</td>\n",
       "      <td>ZA</td>\n",
       "      <td>1.613530e+09</td>\n",
       "    </tr>\n",
       "    <tr>\n",
       "      <th>1</th>\n",
       "      <td>busselton</td>\n",
       "      <td>-33.6500</td>\n",
       "      <td>115.3333</td>\n",
       "      <td>75.99</td>\n",
       "      <td>65.0</td>\n",
       "      <td>0.0</td>\n",
       "      <td>3.00</td>\n",
       "      <td>Southern Hemisphere</td>\n",
       "      <td>AU</td>\n",
       "      <td>1.613530e+09</td>\n",
       "    </tr>\n",
       "    <tr>\n",
       "      <th>2</th>\n",
       "      <td>deputatskiy</td>\n",
       "      <td>69.3000</td>\n",
       "      <td>139.9000</td>\n",
       "      <td>-19.28</td>\n",
       "      <td>87.0</td>\n",
       "      <td>93.0</td>\n",
       "      <td>0.76</td>\n",
       "      <td>Northern Hemisphere</td>\n",
       "      <td>RU</td>\n",
       "      <td>1.613530e+09</td>\n",
       "    </tr>\n",
       "    <tr>\n",
       "      <th>3</th>\n",
       "      <td>potiskum</td>\n",
       "      <td>11.7091</td>\n",
       "      <td>11.0694</td>\n",
       "      <td>62.92</td>\n",
       "      <td>26.0</td>\n",
       "      <td>0.0</td>\n",
       "      <td>9.98</td>\n",
       "      <td>Northern Hemisphere</td>\n",
       "      <td>NG</td>\n",
       "      <td>1.613530e+09</td>\n",
       "    </tr>\n",
       "    <tr>\n",
       "      <th>4</th>\n",
       "      <td>port alfred</td>\n",
       "      <td>-33.5906</td>\n",
       "      <td>26.8910</td>\n",
       "      <td>62.87</td>\n",
       "      <td>79.0</td>\n",
       "      <td>3.0</td>\n",
       "      <td>14.25</td>\n",
       "      <td>Southern Hemisphere</td>\n",
       "      <td>ZA</td>\n",
       "      <td>1.613530e+09</td>\n",
       "    </tr>\n",
       "    <tr>\n",
       "      <th>...</th>\n",
       "      <td>...</td>\n",
       "      <td>...</td>\n",
       "      <td>...</td>\n",
       "      <td>...</td>\n",
       "      <td>...</td>\n",
       "      <td>...</td>\n",
       "      <td>...</td>\n",
       "      <td>...</td>\n",
       "      <td>...</td>\n",
       "      <td>...</td>\n",
       "    </tr>\n",
       "    <tr>\n",
       "      <th>582</th>\n",
       "      <td>wadi maliz</td>\n",
       "      <td>36.4681</td>\n",
       "      <td>8.5495</td>\n",
       "      <td>44.69</td>\n",
       "      <td>60.0</td>\n",
       "      <td>0.0</td>\n",
       "      <td>4.18</td>\n",
       "      <td>Northern Hemisphere</td>\n",
       "      <td>TN</td>\n",
       "      <td>1.613530e+09</td>\n",
       "    </tr>\n",
       "    <tr>\n",
       "      <th>583</th>\n",
       "      <td>arkhangelsk</td>\n",
       "      <td>64.5401</td>\n",
       "      <td>40.5433</td>\n",
       "      <td>-25.60</td>\n",
       "      <td>68.0</td>\n",
       "      <td>0.0</td>\n",
       "      <td>2.42</td>\n",
       "      <td>Northern Hemisphere</td>\n",
       "      <td>RU</td>\n",
       "      <td>1.613530e+09</td>\n",
       "    </tr>\n",
       "    <tr>\n",
       "      <th>584</th>\n",
       "      <td>el sauce</td>\n",
       "      <td>12.8869</td>\n",
       "      <td>-86.5390</td>\n",
       "      <td>76.10</td>\n",
       "      <td>72.0</td>\n",
       "      <td>66.0</td>\n",
       "      <td>0.25</td>\n",
       "      <td>Northern Hemisphere</td>\n",
       "      <td>NI</td>\n",
       "      <td>1.613530e+09</td>\n",
       "    </tr>\n",
       "    <tr>\n",
       "      <th>585</th>\n",
       "      <td>kiunga</td>\n",
       "      <td>-6.1219</td>\n",
       "      <td>141.2906</td>\n",
       "      <td>86.86</td>\n",
       "      <td>58.0</td>\n",
       "      <td>94.0</td>\n",
       "      <td>2.42</td>\n",
       "      <td>Southern Hemisphere</td>\n",
       "      <td>PG</td>\n",
       "      <td>1.613530e+09</td>\n",
       "    </tr>\n",
       "    <tr>\n",
       "      <th>586</th>\n",
       "      <td>general pico</td>\n",
       "      <td>-35.6566</td>\n",
       "      <td>-63.7568</td>\n",
       "      <td>64.58</td>\n",
       "      <td>39.0</td>\n",
       "      <td>0.0</td>\n",
       "      <td>5.66</td>\n",
       "      <td>Southern Hemisphere</td>\n",
       "      <td>AR</td>\n",
       "      <td>1.613530e+09</td>\n",
       "    </tr>\n",
       "  </tbody>\n",
       "</table>\n",
       "<p>587 rows × 10 columns</p>\n",
       "</div>"
      ],
      "text/plain": [
       "             City  Latitude  Longitude  Temperature (F)  Humidity (%)  \\\n",
       "0      bredasdorp  -34.5322    20.0403            60.80          88.0   \n",
       "1       busselton  -33.6500   115.3333            75.99          65.0   \n",
       "2     deputatskiy   69.3000   139.9000           -19.28          87.0   \n",
       "3        potiskum   11.7091    11.0694            62.92          26.0   \n",
       "4     port alfred  -33.5906    26.8910            62.87          79.0   \n",
       "..            ...       ...        ...              ...           ...   \n",
       "582    wadi maliz   36.4681     8.5495            44.69          60.0   \n",
       "583   arkhangelsk   64.5401    40.5433           -25.60          68.0   \n",
       "584      el sauce   12.8869   -86.5390            76.10          72.0   \n",
       "585        kiunga   -6.1219   141.2906            86.86          58.0   \n",
       "586  general pico  -35.6566   -63.7568            64.58          39.0   \n",
       "\n",
       "     Cloudiness (%)  Wind Speed (mph)           Hemisphere Country  \\\n",
       "0              14.0              4.61  Southern Hemisphere      ZA   \n",
       "1               0.0              3.00  Southern Hemisphere      AU   \n",
       "2              93.0              0.76  Northern Hemisphere      RU   \n",
       "3               0.0              9.98  Northern Hemisphere      NG   \n",
       "4               3.0             14.25  Southern Hemisphere      ZA   \n",
       "..              ...               ...                  ...     ...   \n",
       "582             0.0              4.18  Northern Hemisphere      TN   \n",
       "583             0.0              2.42  Northern Hemisphere      RU   \n",
       "584            66.0              0.25  Northern Hemisphere      NI   \n",
       "585            94.0              2.42  Southern Hemisphere      PG   \n",
       "586             0.0              5.66  Southern Hemisphere      AR   \n",
       "\n",
       "             Date  \n",
       "0    1.613530e+09  \n",
       "1    1.613530e+09  \n",
       "2    1.613530e+09  \n",
       "3    1.613530e+09  \n",
       "4    1.613530e+09  \n",
       "..            ...  \n",
       "582  1.613530e+09  \n",
       "583  1.613530e+09  \n",
       "584  1.613530e+09  \n",
       "585  1.613530e+09  \n",
       "586  1.613530e+09  \n",
       "\n",
       "[587 rows x 10 columns]"
      ]
     },
     "execution_count": 3,
     "metadata": {},
     "output_type": "execute_result"
    }
   ],
   "source": [
    "# Read in data from weatherpy\n",
    "cities_df = pd.read_csv(\"Data/cities.csv\")\n",
    "cities_df"
   ]
  },
  {
   "cell_type": "code",
   "execution_count": 4,
   "metadata": {},
   "outputs": [],
   "source": [
    "# Configure gmaps with API key\n",
    "gmaps.configure(g_key)"
   ]
  },
  {
   "cell_type": "code",
   "execution_count": 5,
   "metadata": {},
   "outputs": [],
   "source": [
    "# Store 'Lat' and 'Lng' into  locations \n",
    "locations = cities_df[[\"Latitude\", \"Longitude\"]].astype(float)\n",
    "humidity = cities_df[\"Humidity (%)\"].astype(float)"
   ]
  },
  {
   "cell_type": "code",
   "execution_count": 11,
   "metadata": {},
   "outputs": [
    {
     "data": {
      "application/vnd.jupyter.widget-view+json": {
       "model_id": "cd5bcb9314944143809eec75227a4197",
       "version_major": 2,
       "version_minor": 0
      },
      "text/plain": [
       "Figure(layout=FigureLayout(height='420px'))"
      ]
     },
     "metadata": {},
     "output_type": "display_data"
    }
   ],
   "source": [
    "# Create a humidity Heatmap layer\n",
    "\n",
    "# Use coordinates to center the map and zoom\n",
    "coordinates = (0, 0)\n",
    "\n",
    "# Use max humidity for max_intensity parameter in heatmap_layer\n",
    "max_humidity = cities_df[\"Humidity (%)\"].max()\n",
    "\n",
    "# Build heat map\n",
    "fig = gmaps.figure(center=coordinates, zoom_level=2)\n",
    "heat_layer = gmaps.heatmap_layer(locations, weights=humidity, \n",
    "                                 dissipating=False, \n",
    "                                 max_intensity=max_humidity,\n",
    "                                 point_radius = 2)\n",
    "fig.add_layer(heat_layer)\n",
    "fig"
   ]
  },
  {
   "cell_type": "code",
   "execution_count": 12,
   "metadata": {},
   "outputs": [
    {
     "data": {
      "text/plain": [
       "100.0"
      ]
     },
     "execution_count": 12,
     "metadata": {},
     "output_type": "execute_result"
    }
   ],
   "source": [
    "# Find only cities with ideal vacation conditions\n",
    "hotel_df = cities_df.loc[((cities_df['Temperature (F)'] < 75)&(cities_df['Wind Speed (mph)'] < 10)&(cities_df['Temperature (F)'] >= 70)&(cities_df['Cloudiness (%)'] == 0))]"
   ]
  },
  {
   "cell_type": "code",
   "execution_count": 8,
   "metadata": {},
   "outputs": [
    {
     "name": "stderr",
     "output_type": "stream",
     "text": [
      "C:\\Users\\nabul\\anaconda3\\envs\\PythonData\\lib\\site-packages\\ipykernel_launcher.py:13: SettingWithCopyWarning: \n",
      "A value is trying to be set on a copy of a slice from a DataFrame.\n",
      "Try using .loc[row_indexer,col_indexer] = value instead\n",
      "\n",
      "See the caveats in the documentation: https://pandas.pydata.org/pandas-docs/stable/user_guide/indexing.html#returning-a-view-versus-a-copy\n",
      "  del sys.path[0]\n",
      "C:\\Users\\nabul\\anaconda3\\envs\\PythonData\\lib\\site-packages\\pandas\\core\\indexing.py:1763: SettingWithCopyWarning: \n",
      "A value is trying to be set on a copy of a slice from a DataFrame.\n",
      "Try using .loc[row_indexer,col_indexer] = value instead\n",
      "\n",
      "See the caveats in the documentation: https://pandas.pydata.org/pandas-docs/stable/user_guide/indexing.html#returning-a-view-versus-a-copy\n",
      "  isetter(loc, value)\n"
     ]
    },
    {
     "name": "stdout",
     "output_type": "stream",
     "text": [
      "Unable to find hotel name for pochutla\n"
     ]
    }
   ],
   "source": [
    "# parameters for api call\n",
    "params = {\n",
    "    \"keyword\": \"hotel\",\n",
    "    \"radius\": 5000,\n",
    "    \"type\": \"lodging\",\n",
    "    \"key\": g_key\n",
    "}\n",
    "\n",
    "#base url\n",
    "base_url = \"https://maps.googleapis.com/maps/api/place/nearbysearch/json\"\n",
    "\n",
    "#column in df for storing hotel names\n",
    "hotel_df['name'] = \"\"\n",
    "\n",
    "# use iterrows to iterate through pandas dataframe\n",
    "for index, row in hotel_df.iterrows():\n",
    "    # get restaurant type from df\n",
    "    lat = row['Latitude']\n",
    "    long = row['Longitude']\n",
    "    location = f\"{lat}, {long}\"\n",
    "\n",
    "    # add keyword to params dict\n",
    "    params['location'] = location\n",
    "    \n",
    "    # assemble url and make API request\n",
    "    hotel_data = requests.get(base_url, params=params).json()\n",
    "    hotel_info = hotel_data['results']\n",
    "    \n",
    "    # try to store data\n",
    "    try:\n",
    "        hotel_df.loc[index, 'name'] = hotel_info[0]['name']\n",
    "    except(KeyError, IndexError):\n",
    "        print(f\"Unable to find hotel name for {row['City']}\")"
   ]
  },
  {
   "cell_type": "code",
   "execution_count": 9,
   "metadata": {},
   "outputs": [],
   "source": [
    "# NOTE: Do not change any of the code in this cell\n",
    "\n",
    "# Using the template add the hotel marks to the heatmap\n",
    "info_box_template = \"\"\"\n",
    "<dl>\n",
    "<dt>Name</dt><dd>{name}</dd>\n",
    "<dt>City</dt><dd>{City}</dd>\n",
    "<dt>Country</dt><dd>{Country}</dd>\n",
    "</dl>\n",
    "\"\"\"\n",
    "# Store the DataFrame Row\n",
    "# NOTE: be sure to update with your DataFrame name\n",
    "hotel_info = [info_box_template.format(**row) for index, row in hotel_df.iterrows()]\n",
    "hotel_locations = hotel_df[[\"Latitude\", \"Longitude\"]]"
   ]
  },
  {
   "cell_type": "code",
   "execution_count": 10,
   "metadata": {},
   "outputs": [
    {
     "data": {
      "application/vnd.jupyter.widget-view+json": {
       "model_id": "450234a159424238a6461bd45f614452",
       "version_major": 2,
       "version_minor": 0
      },
      "text/plain": [
       "Figure(layout=FigureLayout(height='420px'))"
      ]
     },
     "metadata": {},
     "output_type": "display_data"
    }
   ],
   "source": [
    "# Create hotel marker layer\n",
    "hotel_layer = gmaps.marker_layer(hotel_locations, info_box_content = hotel_info)\n",
    "fig.add_layer(hotel_layer)\n",
    "fig"
   ]
  },
  {
   "cell_type": "code",
   "execution_count": null,
   "metadata": {},
   "outputs": [],
   "source": []
  }
 ],
 "metadata": {
  "kernelspec": {
   "display_name": "Python 3",
   "language": "python",
   "name": "python3"
  },
  "language_info": {
   "codemirror_mode": {
    "name": "ipython",
    "version": 3
   },
   "file_extension": ".py",
   "mimetype": "text/x-python",
   "name": "python",
   "nbconvert_exporter": "python",
   "pygments_lexer": "ipython3",
   "version": "3.8.5"
  }
 },
 "nbformat": 4,
 "nbformat_minor": 4
}
